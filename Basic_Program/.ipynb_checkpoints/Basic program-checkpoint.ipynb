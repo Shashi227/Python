{
 "cells": [
  {
   "cell_type": "code",
   "execution_count": 1,
   "metadata": {},
   "outputs": [
    {
     "name": "stdout",
     "output_type": "stream",
     "text": [
      "153 this is not the aremstrong\n"
     ]
    }
   ],
   "source": [
    "num=153\n",
    "order = len(str(num))\n",
    "sum=0\n",
    "temp=num\n",
    "while temp>0 :\n",
    "    digit=temp%10\n",
    "    sum = sum + digit**order\n",
    "    temp=temp//10\n",
    "    \n",
    "    if (num == sum):\n",
    "        print(num,'is armstrong')\n",
    "        break\n",
    "    else:\n",
    "        print(num,'this is not the aremstrong')\n",
    "        break"
   ]
  },
  {
   "cell_type": "code",
   "execution_count": 3,
   "metadata": {},
   "outputs": [
    {
     "name": "stdout",
     "output_type": "stream",
     "text": [
      "enter the number:1\n",
      "not palindrome\n"
     ]
    }
   ],
   "source": [
    "num=int(input('enter the number:'))\n",
    "temp == num\n",
    "rev=0\n",
    "while(num>0):\n",
    "    degit=num%10\n",
    "    rev += rev*10+degit\n",
    "    num //=10\n",
    "    if temp == rev:\n",
    "        print('palindrome')\n",
    "        \n",
    "    else:\n",
    "        print('not palindrome')"
   ]
  },
  {
   "cell_type": "code",
   "execution_count": 4,
   "metadata": {},
   "outputs": [
    {
     "name": "stdout",
     "output_type": "stream",
     "text": [
      "sorted array is:\n",
      "0\n",
      "1\n",
      "2\n",
      "5\n",
      "6\n",
      "7\n",
      "8\n",
      "9\n"
     ]
    }
   ],
   "source": [
    "def ins(A):\n",
    "    n=len(A)\n",
    "    for j in range (1,n):\n",
    "        key=A[j]\n",
    "        i=j-1\n",
    "        while i>=0 and A[i]>key:\n",
    "            A[i+1]=A[i]\n",
    "            i=i-1\n",
    "        A[i+1]=key\n",
    "A=[9,6,5,0,8,2,7,1]\n",
    "n=len(A)\n",
    "ins(A)\n",
    "print('sorted array is:')\n",
    "for i in range(n):\n",
    "    print('%d' %A[i])\n"
   ]
  },
  {
   "cell_type": "code",
   "execution_count": 1,
   "metadata": {},
   "outputs": [
    {
     "name": "stdout",
     "output_type": "stream",
     "text": [
      "Enter the first number of the series 5\n",
      "Enter the second number of the series 9\n",
      "Enter the number of terms needed 5\n",
      "5 9 14 23 37 "
     ]
    }
   ],
   "source": [
    "a=int(input(\"Enter the first number of the series \"))\n",
    "b=int(input(\"Enter the second number of the series \"))\n",
    "n=int(input(\"Enter the number of terms needed \"))\n",
    "print(a,b,end=\" \")\n",
    "while(n-2):\n",
    "    c=a+b\n",
    "    a=b\n",
    "    b=c\n",
    "    print(c,end=\" \")\n",
    "    n=n-1"
   ]
  },
  {
   "cell_type": "code",
   "execution_count": 2,
   "metadata": {},
   "outputs": [
    {
     "name": "stdout",
     "output_type": "stream",
     "text": [
      "Enter the first number of the series 78\n",
      "Enter the second number of the series 87\n",
      "165  \n"
     ]
    }
   ],
   "source": [
    "def sum(x,y):\n",
    "    return x+y\n",
    "a=int(input(\"Enter the first number of the series \"))\n",
    "b=int(input(\"Enter the second number of the series \"))\n",
    "\n",
    "print(sum(a,b),\" \")"
   ]
  },
  {
   "cell_type": "code",
   "execution_count": null,
   "metadata": {},
   "outputs": [],
   "source": []
  }
 ],
 "metadata": {
  "kernelspec": {
   "display_name": "Python 3",
   "language": "python",
   "name": "python3"
  },
  "language_info": {
   "codemirror_mode": {
    "name": "ipython",
    "version": 3
   },
   "file_extension": ".py",
   "mimetype": "text/x-python",
   "name": "python",
   "nbconvert_exporter": "python",
   "pygments_lexer": "ipython3",
   "version": "3.7.1"
  }
 },
 "nbformat": 4,
 "nbformat_minor": 2
}
