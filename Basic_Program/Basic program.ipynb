{
 "cells": [
  {
   "cell_type": "code",
   "execution_count": 1,
   "metadata": {},
   "outputs": [
    {
     "name": "stdout",
     "output_type": "stream",
     "text": [
      "153 this is not the aremstrong\n"
     ]
    }
   ],
   "source": [
    "num=153\n",
    "order = len(str(num))\n",
    "sum=0\n",
    "temp=num\n",
    "while temp>0 :\n",
    "    digit=temp%10\n",
    "    sum = sum + digit**order\n",
    "    temp=temp//10\n",
    "    \n",
    "    if (num == sum):\n",
    "        print(num,'is armstrong')\n",
    "        break\n",
    "    else:\n",
    "        print(num,'this is not the aremstrong')\n",
    "        break"
   ]
  },
  {
   "cell_type": "code",
   "execution_count": 4,
   "metadata": {},
   "outputs": [
    {
     "name": "stdout",
     "output_type": "stream",
     "text": [
      "enter the number:1\n",
      "not palindrome\n"
     ]
    }
   ],
   "source": [
    "num=int(input('enter the number:'))\n",
    "temp == num\n",
    "rev=0\n",
    "while(num>0):\n",
    "    degit=num%10\n",
    "    rev += rev*10+degit\n",
    "    num //=10\n",
    "    if temp == rev:\n",
    "        print('palindrome')\n",
    "        \n",
    "    else:\n",
    "        print('not palindrome')"
   ]
  },
  {
   "cell_type": "code",
   "execution_count": 5,
   "metadata": {},
   "outputs": [
    {
     "name": "stdout",
     "output_type": "stream",
     "text": [
      "enter how many number sum of the febonaci series:10\n",
      "enter the ist number:0\n",
      "enter the second number:1\n",
      "0 1\n",
      "1\n",
      "2\n",
      "3\n",
      "5\n",
      "8\n",
      "13\n",
      "21\n",
      "34\n"
     ]
    }
   ],
   "source": [
    "N=int(input('enter how many number sum of the febonaci series:'))\n",
    "A=int(input('enter the ist number:'))\n",
    "B=int(input('enter the second number:'))\n",
    "print(A,B)\n",
    "for i in range (2,N):\n",
    "    sum=A+B\n",
    "    print(sum)\n",
    "    A=B\n",
    "    B=sum"
   ]
  },
  {
   "cell_type": "code",
   "execution_count": 6,
   "metadata": {},
   "outputs": [
    {
     "name": "stdout",
     "output_type": "stream",
     "text": [
      "Enter the first number of the series 1\n",
      "Enter the second number of the series 2\n",
      "Enter the number of terms needed 10\n",
      "1 2 3 5 8 13 21 34 55 89 "
     ]
    }
   ],
   "source": [
    "a=int(input(\"Enter the first number of the series \"))\n",
    "b=int(input(\"Enter the second number of the series \"))\n",
    "n=int(input(\"Enter the number of terms needed \"))\n",
    "print(a,b,end=\" \")\n",
    "while(n-2):\n",
    "    c=a+b\n",
    "    a=b\n",
    "    b=c\n",
    "    print(c,end=\" \")\n",
    "    n=n-1"
   ]
  },
  {
   "cell_type": "code",
   "execution_count": 7,
   "metadata": {},
   "outputs": [
    {
     "name": "stdout",
     "output_type": "stream",
     "text": [
      "Enter the first number of the series 87\n",
      "Enter the second number of the series 78\n",
      "165  \n"
     ]
    }
   ],
   "source": [
    "def sum(x,y):\n",
    "    return x+y\n",
    "a=int(input(\"Enter the first number of the series \"))\n",
    "b=int(input(\"Enter the second number of the series \"))\n",
    "\n",
    "print(sum(a,b),\" \")"
   ]
  },
  {
   "cell_type": "code",
   "execution_count": 8,
   "metadata": {},
   "outputs": [
    {
     "name": "stdout",
     "output_type": "stream",
     "text": [
      "13\n"
     ]
    }
   ],
   "source": [
    "def febo(n):\n",
    "    if (n<0):\n",
    "        print(\"incorrect input:\")\n",
    "    elif n==1:\n",
    "        return 0\n",
    "    elif (n==2):\n",
    "        return 1\n",
    "    else:\n",
    "        return febo(n-1)+febo(n-2)\n",
    "print(febo(8))"
   ]
  },
  {
   "cell_type": "code",
   "execution_count": 9,
   "metadata": {},
   "outputs": [
    {
     "name": "stdout",
     "output_type": "stream",
     "text": [
      "1\n",
      "3\n",
      "6\n",
      "8\n",
      "12\n",
      "17\n",
      "23\n"
     ]
    }
   ],
   "source": [
    "x = [1,2,3,2,4,N,5,N,6]\n",
    "sum=0\n",
    "for i in x:\n",
    "    if i is N:\n",
    "        continue\n",
    "    \n",
    "    sum=sum+i\n",
    "    print(sum)\n",
    "    \n",
    "\n",
    "    "
   ]
  },
  {
   "cell_type": "code",
   "execution_count": 10,
   "metadata": {},
   "outputs": [
    {
     "name": "stdout",
     "output_type": "stream",
     "text": [
      "1\n",
      "3\n",
      "6\n",
      "10\n"
     ]
    }
   ],
   "source": [
    "s=[1,2,3,4,6,7,8]\n",
    "sum=0\n",
    "for i in s:\n",
    "    if i is 6:\n",
    "        break\n",
    "    sum+=i\n",
    "    print(sum)"
   ]
  },
  {
   "cell_type": "code",
   "execution_count": 11,
   "metadata": {},
   "outputs": [
    {
     "name": "stdout",
     "output_type": "stream",
     "text": [
      "0\n",
      "256\n",
      "384\n",
      "448\n",
      "480\n",
      "496\n"
     ]
    }
   ],
   "source": [
    "x=256\n",
    "total=0\n",
    "while(x>0):\n",
    "    if total>500:\n",
    "        break\n",
    "    print(total)\n",
    "    total +=x\n",
    "    x=x//2\n",
    "    "
   ]
  },
  {
   "cell_type": "code",
   "execution_count": null,
   "metadata": {},
   "outputs": [
    {
     "name": "stdout",
     "output_type": "stream",
     "text": [
      "0\n",
      "0\n",
      "1\n",
      "3\n",
      "6\n",
      "10\n"
     ]
    }
   ],
   "source": [
    "sum=0\n",
    "for i in range(10):\n",
    "    \n",
    "    while(i>5):\n",
    "        \n",
    "        while(sum>28):\n",
    "            break;\n",
    "    print(sum)\n",
    "    sum +=i"
   ]
  },
  {
   "cell_type": "code",
   "execution_count": null,
   "metadata": {},
   "outputs": [],
   "source": [
    "sum=0\n",
    "for i in range(100):\n",
    "    if i%3==0 and i%5==0:\n",
    "        print(i)\n",
    "        sum +=i\n",
    "print(sum)\n",
    "        \n",
    "    "
   ]
  },
  {
   "cell_type": "code",
   "execution_count": null,
   "metadata": {},
   "outputs": [],
   "source": [
    "x=int(input('enter any positive integer:'))\n",
    "temp=x\n",
    "rev=0\n",
    "while (x>0):\n",
    "    remi=x%10\n",
    "    rev=rev*10 + remi\n",
    "    x=x//10\n",
    "\"palindrome\" if (temp==rev) else 'not palindrome'\n",
    "    \n",
    "    "
   ]
  },
  {
   "cell_type": "code",
   "execution_count": null,
   "metadata": {},
   "outputs": [],
   "source": []
  }
 ],
 "metadata": {
  "kernelspec": {
   "display_name": "Python 3",
   "language": "python",
   "name": "python3"
  },
  "language_info": {
   "codemirror_mode": {
    "name": "ipython",
    "version": 3
   },
   "file_extension": ".py",
   "mimetype": "text/x-python",
   "name": "python",
   "nbconvert_exporter": "python",
   "pygments_lexer": "ipython3",
   "version": "3.7.1"
  }
 },
 "nbformat": 4,
 "nbformat_minor": 2
}
