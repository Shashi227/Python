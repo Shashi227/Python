{
 "cells": [
  {
   "cell_type": "code",
   "execution_count": 1,
   "metadata": {},
   "outputs": [],
   "source": [
    "def max_heap(A,n,i):\n",
    "    for i in range(n):\n",
    "        l=2*i\n",
    "        r=2*i+1\n",
    "    if (l<=len(A) and A[l]>a[i]):\n",
    "        large=l\n",
    "    else:\n",
    "            large=i\n",
    "    if (r<=len(A) and A[r]>A[l]):\n",
    "        large=r\n",
    "    if (large != i):\n",
    "        A[i],A[large]=A[large],A[i]\n",
    "        max_heap(A,i)\n",
    "A=[4,5,8,2,1,6,7]\n",
    "n=7\n",
    "i=0\n",
    "max_heap(A,n,i)\n"
   ]
  },
  {
   "cell_type": "code",
   "execution_count": 2,
   "metadata": {},
   "outputs": [
    {
     "name": "stdout",
     "output_type": "stream",
     "text": [
      "the sorted Array are:\n",
      "4\n",
      "8\n",
      "2\n",
      "1\n",
      "6\n",
      "7\n",
      "5\n"
     ]
    }
   ],
   "source": [
    "def max_heap(A,n,i):\n",
    "    for i in range(n):\n",
    "        l=2*i\n",
    "        r=2*i+1\n",
    "    if (l<=len(A) and A[l]>a[i]):\n",
    "        large=l\n",
    "    else:\n",
    "        large=i\n",
    "    if (r<=len(A) and A[r]>A[l]):\n",
    "        large=r\n",
    "    if (large != i):\n",
    "        A[i],A[large]=A[large],A[i]\n",
    "        max_heap(A,n,i)\n",
    "def heap_sort(A):\n",
    "    n=len(A)\n",
    "    for i in range(n,1,-1):\n",
    "        max_heap(A,n,i)\n",
    "    for i in range(n-1,0,-1):\n",
    "        A[1],A[i]=A[i],A[1]\n",
    "        max_heap(A,n,i)\n",
    "        \n",
    "A=[4,5,8,2,1,6,7]\n",
    "n=len(A)\n",
    "heap_sort(A)\n",
    "print('the sorted Array are:')\n",
    "for i in range (n):\n",
    "    print('%d'%A[i])"
   ]
  },
  {
   "cell_type": "code",
   "execution_count": null,
   "metadata": {},
   "outputs": [],
   "source": [
    "\n"
   ]
  },
  {
   "cell_type": "code",
   "execution_count": null,
   "metadata": {},
   "outputs": [],
   "source": []
  }
 ],
 "metadata": {
  "kernelspec": {
   "display_name": "Python 3",
   "language": "python",
   "name": "python3"
  },
  "language_info": {
   "codemirror_mode": {
    "name": "ipython",
    "version": 3
   },
   "file_extension": ".py",
   "mimetype": "text/x-python",
   "name": "python",
   "nbconvert_exporter": "python",
   "pygments_lexer": "ipython3",
   "version": "3.7.1"
  }
 },
 "nbformat": 4,
 "nbformat_minor": 2
}
