{
 "cells": [
  {
   "cell_type": "markdown",
   "metadata": {},
   "source": [
    "# sorting"
   ]
  },
  {
   "cell_type": "code",
   "execution_count": 4,
   "metadata": {},
   "outputs": [
    {
     "name": "stdout",
     "output_type": "stream",
     "text": [
      "sorted array is:\n",
      "0\n",
      "1\n",
      "2\n",
      "5\n",
      "6\n",
      "7\n",
      "8\n",
      "9\n"
     ]
    }
   ],
   "source": [
    "#Insertion Sort\n",
    "def ins(A):\n",
    "    n=len(A)\n",
    "    for j in range (1,n):\n",
    "        key=A[j]\n",
    "        i=j-1\n",
    "        while i>=0 and A[i]>key:\n",
    "            A[i+1]=A[i]\n",
    "            i=i-1\n",
    "        A[i+1]=key\n",
    "A=[9,6,5,0,8,2,7,1]\n",
    "n=len(A)\n",
    "ins(A)\n",
    "print('sorted array is:')\n",
    "for i in range(n):\n",
    "    print('%d' %A[i])\n"
   ]
  },
  {
   "cell_type": "code",
   "execution_count": 2,
   "metadata": {},
   "outputs": [
    {
     "name": "stdout",
     "output_type": "stream",
     "text": [
      "using Bubble short the shorted list is:\n",
      "1\n",
      "2\n",
      "3\n",
      "4\n",
      "5\n",
      "6\n",
      "7\n",
      "8\n",
      "9\n"
     ]
    }
   ],
   "source": [
    "def Bubble(A):\n",
    "    n=len(A)\n",
    "    for i in range(n):\n",
    "        sweeped=0\n",
    "        for j in range(0,n-i-1):\n",
    "            if (A[j]>A[j+1]):\n",
    "                A[j],A[j+1]=A[j+1],A[j]\n",
    "        sweeped=1\n",
    "A=[9,8,7,6,5,4,3,2,1]\n",
    "n=len(A)\n",
    "Bubble(A)\n",
    "print('using Bubble short the shorted list is:')\n",
    "for i in range(n):\n",
    "    print('%d'%A[i])"
   ]
  },
  {
   "cell_type": "code",
   "execution_count": 3,
   "metadata": {},
   "outputs": [
    {
     "name": "stdout",
     "output_type": "stream",
     "text": [
      "using Bubble sort the shorted list is:\n",
      "1\n",
      "2\n",
      "3\n",
      "4\n",
      "5\n",
      "6\n",
      "7\n",
      "8\n",
      "9\n",
      "908\n"
     ]
    }
   ],
   "source": [
    "def Bubble(A):\n",
    "    n=len(A)\n",
    "    for i in range(n):\n",
    "        sweeped=0\n",
    "        for j in range(n-i-1):\n",
    "            if (A[j]>A[j+1]):\n",
    "                A[j],A[j+1]=A[j+1],A[j]\n",
    "        sweeped=1\n",
    "A=[908,9,8,7,6,5,4,3,2,1]\n",
    "n=len(A)\n",
    "Bubble(A)\n",
    "print(\"using Bubble sort the shorted list is:\")\n",
    "for i in range(n):\n",
    "    print('%d'%A[i])"
   ]
  },
  {
   "cell_type": "code",
   "execution_count": 5,
   "metadata": {},
   "outputs": [],
   "source": [
    "def max_heap(A,n,i):\n",
    "    for i in range(n):\n",
    "        l=2*i\n",
    "        r=2*i+1\n",
    "    if (l<=len(A) and A[l]>a[i]):\n",
    "        large=l\n",
    "    else:\n",
    "            large=i\n",
    "    if (r<=len(A) and A[r]>A[l]):\n",
    "        large=r\n",
    "    if (large != i):\n",
    "        A[i],A[large]=A[large],A[i]\n",
    "        max_heap(A,i)\n",
    "A=[4,5,8,2,1,6,7]\n",
    "n=7\n",
    "i=5\n",
    "max_heap(A,n,i)\n"
   ]
  },
  {
   "cell_type": "code",
   "execution_count": 6,
   "metadata": {},
   "outputs": [
    {
     "name": "stdout",
     "output_type": "stream",
     "text": [
      "the sorted Array are:\n",
      "4\n",
      "8\n",
      "2\n",
      "1\n",
      "6\n",
      "7\n",
      "5\n"
     ]
    }
   ],
   "source": [
    "def max_heap(A,n,i):\n",
    "    for i in range(n):\n",
    "        l=2*i\n",
    "        r=2*i+1\n",
    "    if (l<=len(A) and A[l]>a[i]):\n",
    "        large=l\n",
    "    else:\n",
    "        large=i\n",
    "    if (r<=len(A) and A[r]>A[l]):\n",
    "        large=r\n",
    "    if (large != i):\n",
    "        A[i],A[large]=A[large],A[i]\n",
    "        max_heap(A,n,i)\n",
    "def heap_sort(A):\n",
    "    n=len(A)\n",
    "    for i in range(n,1,-1):\n",
    "        max_heap(A,n,i)\n",
    "    for i in range(n-1,0,-1):\n",
    "        A[1],A[i]=A[i],A[1]\n",
    "        max_heap(A,n,i)\n",
    "        \n",
    "A=[4,5,8,2,1,6,7]\n",
    "n=len(A)\n",
    "heap_sort(A)\n",
    "print('the sorted Array are:')\n",
    "for i in range (n):\n",
    "    print('%d'%A[i])"
   ]
  },
  {
   "cell_type": "code",
   "execution_count": null,
   "metadata": {},
   "outputs": [],
   "source": []
  }
 ],
 "metadata": {
  "kernelspec": {
   "display_name": "Python 3",
   "language": "python",
   "name": "python3"
  },
  "language_info": {
   "codemirror_mode": {
    "name": "ipython",
    "version": 3
   },
   "file_extension": ".py",
   "mimetype": "text/x-python",
   "name": "python",
   "nbconvert_exporter": "python",
   "pygments_lexer": "ipython3",
   "version": "3.7.1"
  }
 },
 "nbformat": 4,
 "nbformat_minor": 2
}
